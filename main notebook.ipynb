{
 "cells": [
  {
   "cell_type": "code",
   "execution_count": null,
   "id": "ccc8e8c7",
   "metadata": {},
   "outputs": [],
   "source": [
    "## Group one "
   ]
  },
  {
   "cell_type": "markdown",
   "id": "122fbefd",
   "metadata": {},
   "source": []
  }
 ],
 "metadata": {
  "language_info": {
   "name": "python"
  }
 },
 "nbformat": 4,
 "nbformat_minor": 5
}
